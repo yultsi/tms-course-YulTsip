{
 "cells": [
  {
   "cell_type": "code",
   "execution_count": 26,
   "metadata": {},
   "outputs": [],
   "source": [
    "class Animal:\n",
    "    def __init__(self, name, speed, sound, hours_of_sleep):\n",
    "        self.name = name\n",
    "        self.speed = speed\n",
    "        self.sound = sound\n",
    "        self.hours_of_sleep = hours_of_sleep\n",
    "    \n",
    "    def speak(self):\n",
    "        print (f\"{self.name} says {self.sound}\")\n",
    "    \n",
    "    def running(self):\n",
    "        print(f\"{self.name} is running with {self.speed} km/h.\")\n",
    "        \n",
    "    def sleep(self):\n",
    "        print(f\"{self.name} sleeps for {self.hours_of_sleep} hours a day.\")\n",
    "        \n",
    "\n",
    "class Dog(Animal):\n",
    "    def __init__(self, name, speed, sound, hours_of_sleep, hours_of_walking, food):\n",
    "        super().__init__(name, speed, sound, hours_of_sleep)\n",
    "        self.hours_of_walking = hours_of_walking\n",
    "        self.food = food\n",
    "    \n",
    "    def speak(self):\n",
    "        print(f\"{self.name} woofs.\")\n",
    "        \n",
    "    def active(self):\n",
    "        print(f\"{self.name} is active for {self.hours_of_walking} hours a day.\")\n",
    "\n",
    "    def food(self):\n",
    "        print(f\"{self.name} wants to eat {self.food}.\")\n",
    "        \n",
    "\n",
    "class Cat(Animal):\n",
    "    def __init__(self, name, speed, sound, hours_of_sleep, eye_color):\n",
    "        super().__init__(name, speed, sound, hours_of_sleep)\n",
    "        self.eye_color = eye_color\n",
    "    \n",
    "    def speak(self):\n",
    "        print(f\"{self.name} meows.\")\n",
    "        \n",
    "    def playing(self):\n",
    "        print(f\"{self.name} is playing.\")\n",
    "        \n",
    "\n",
    "class Horse(Animal):\n",
    "    def __init__(self, name, speed, sound, hours_of_sleep, tail_color):\n",
    "        super().__init__(name, speed, sound, hours_of_sleep)\n",
    "        self.tail_color = tail_color\n",
    "        \n",
    "    def speak(self):\n",
    "        print(f\"{self.name} neighs.\")\n",
    "        \n",
    "    def wagging_its_tail(self):\n",
    "        print(f\"{self.name} is wagging its {self.tail_color} tail.\")\n"
   ]
  },
  {
   "cell_type": "code",
   "execution_count": 25,
   "metadata": {},
   "outputs": [
    {
     "name": "stdout",
     "output_type": "stream",
     "text": [
      "Cooper woofs.\n",
      "Cooper is active for 3 hours a day.\n",
      "Cooper sleeps for 13 hours a day.\n"
     ]
    },
    {
     "ename": "TypeError",
     "evalue": "'str' object is not callable",
     "output_type": "error",
     "traceback": [
      "\u001b[0;31m---------------------------------------------------------------------------\u001b[0m",
      "\u001b[0;31mTypeError\u001b[0m                                 Traceback (most recent call last)",
      "Cell \u001b[0;32mIn[25], line 7\u001b[0m\n\u001b[1;32m      5\u001b[0m dog_1\u001b[39m.\u001b[39mactive()  \u001b[39m#For how many hours a day Cooper is active.\u001b[39;00m\n\u001b[1;32m      6\u001b[0m dog_1\u001b[39m.\u001b[39msleep() \u001b[39m#How many hours a day Cooper sleeps\u001b[39;00m\n\u001b[0;32m----> 7\u001b[0m dog_1\u001b[39m.\u001b[39;49mfood()\n\u001b[1;32m      8\u001b[0m \u001b[39mprint\u001b[39m(\u001b[39m\"\u001b[39m\u001b[39m \u001b[39m\u001b[39m\"\u001b[39m)\n\u001b[1;32m     10\u001b[0m dog_2\u001b[39m.\u001b[39mspeak() \u001b[39m#Felix is making a sound.\u001b[39;00m\n",
      "\u001b[0;31mTypeError\u001b[0m: 'str' object is not callable"
     ]
    }
   ],
   "source": [
    "dog_1 = Dog(\"Cooper\", 20, \"woof\", 13, 3, \"meat\")\n",
    "dog_2 = Dog(\"Felix\", 25, \"woof\", 14, 2, \"fish\")\n",
    "\n",
    "dog_1.speak()  # Cooper is making a sound.\n",
    "dog_1.active()  #For how many hours a day Cooper is active.\n",
    "dog_1.sleep() #How many hours a day Cooper sleeps\n",
    "dog_1.food()\n",
    "print(\" \")\n",
    "\n",
    "dog_2.speak() #Felix is making a sound.\n",
    "dog_2.active() #For how many hours a day Felix is active.\n",
    "dog_2.sleep() #How many hours a day Felix sleeps.\n",
    "print(\" \")\n",
    "\n",
    "cat_1 = Cat(\"Oscar\", 13, \"meow\", 16, \"green\")\n",
    "cat_2 = Cat(\"Pixel\", 17, \"meooow\", 15, \"gray\")\n",
    "cat.speak()    #Oscar is making a sound.\n",
    "cat.playing()  #Oscar is playing.\n",
    "\n",
    "horse = Horse(\"Spirit\", 60, \"neigh\", 5, \"brown\")\n",
    "horse.speak()  # Thunderbolt neighs.\n",
    "horse.wagging_its_tail() # Thunderbolt is galloping."
   ]
  }
 ],
 "metadata": {
  "kernelspec": {
   "display_name": "base",
   "language": "python",
   "name": "python3"
  },
  "language_info": {
   "codemirror_mode": {
    "name": "ipython",
    "version": 3
   },
   "file_extension": ".py",
   "mimetype": "text/x-python",
   "name": "python",
   "nbconvert_exporter": "python",
   "pygments_lexer": "ipython3",
   "version": "3.10.9"
  },
  "orig_nbformat": 4
 },
 "nbformat": 4,
 "nbformat_minor": 2
}
